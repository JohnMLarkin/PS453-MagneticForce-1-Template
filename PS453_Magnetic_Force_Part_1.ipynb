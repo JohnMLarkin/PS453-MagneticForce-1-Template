{
  "nbformat": 4,
  "nbformat_minor": 0,
  "metadata": {
    "colab": {
      "name": "PS453-Magnetic_Force-Part_1.ipynb",
      "provenance": [],
      "collapsed_sections": [],
      "authorship_tag": "ABX9TyNQtPVaTE2MCNXbbJF7XL8d"
    },
    "kernelspec": {
      "name": "python3",
      "display_name": "Python 3"
    }
  },
  "cells": [
    {
      "cell_type": "markdown",
      "metadata": {
        "id": "0Vi28D97KAkP"
      },
      "source": [
        "# Understanding the force apparatus"
      ]
    },
    {
      "cell_type": "markdown",
      "metadata": {
        "id": "73M2IH88KFt_"
      },
      "source": [
        "Complete the following exercises and answer the questions before you start working with the apparatus. You should do this before you come to lab."
      ]
    },
    {
      "cell_type": "markdown",
      "metadata": {
        "id": "rSIcq8FDKTjf"
      },
      "source": [
        "## Question 1\r\n",
        "The spring that comes with the magnetic force apparatus is made of copper.  Copper is more expensive than steel so why didn’t it come with a steel spring instead?\r\n",
        "\r\n",
        "_An empty Text cell is below this and awaits your answer..._"
      ]
    },
    {
      "cell_type": "markdown",
      "metadata": {
        "id": "9V_TDqAbKdt9"
      },
      "source": [
        ""
      ]
    },
    {
      "cell_type": "markdown",
      "metadata": {
        "id": "q7Ip2ZCmKfbp"
      },
      "source": [
        "## Exercise 1\r\n",
        "* Draw a picture of the spring-suspended magnet when there is no current flowing through the coils and the magnet is at rest. Label this case A.\r\n",
        "* Next to the first picture, draw a picture of the spring-suspended magnet when there is no current flowing through the coils and the magnet is at rest, but an additional mass $\\Delta M$ has been added to the magnet so the spring has stretched a distance $\\Delta z$. Draw a horizontal dashed line indicating the height of the magnet in case A. Label this second drawing B.\r\n",
        "* Draw qualitatively correct free body diagrams for cases A and B.\r\n",
        "\r\n",
        "_Take a photo of these pictures and diagrams. I recommend the Office Lens app for smartphones. It has a good setting for documents and also lets you pick the resolution (800 by 600 should be fine), crop, rotate, etc. Save this in an image format, not as a PDF. Alternatively, you could sketch this digitally and save as an image. In either case, when you have completed your image ready, edit the following Text cell and select the Insert image icon._\r\n",
        "\r\n"
      ]
    },
    {
      "cell_type": "markdown",
      "metadata": {
        "id": "ceVJz1HQNx1N"
      },
      "source": [
        ""
      ]
    },
    {
      "cell_type": "markdown",
      "metadata": {
        "id": "Beq-auYsRfkq"
      },
      "source": [
        "## Exercise 2\r\n",
        "Write down Newton's second law for the free body diagram for case B.\r\n",
        "\r\n",
        "_You should use the LaTeX capabilities of Text cells rather than writing on paper, taking an image, and then inserting it._"
      ]
    },
    {
      "cell_type": "markdown",
      "metadata": {
        "id": "DIgZTZE0R5a8"
      },
      "source": [
        ""
      ]
    },
    {
      "cell_type": "markdown",
      "metadata": {
        "id": "LJhrg2YCR94c"
      },
      "source": [
        "## Exercise 3\r\n",
        "* Draw a picture of the spring-suspended magnet when the additional mass has been removed, the magnet is at rest, and there is a uniform magnetic field pointing downward.   Suppose the gimbal is stuck so the dipole moment of the permanent magnet is fixed downward.  Draw a horizontal dashed line indicating the height of the magnet in case A.  Label this drawing case C.\r\n",
        "* Draw a qualitatively correct free body diagram for case C."
      ]
    },
    {
      "cell_type": "markdown",
      "metadata": {
        "id": "ysGB88iZSIlI"
      },
      "source": [
        ""
      ]
    },
    {
      "cell_type": "markdown",
      "metadata": {
        "id": "NVpNO2FPSJDc"
      },
      "source": [
        "## Exercise 4\r\n",
        "Write down Newton’s second law for the free body diagram for case C."
      ]
    },
    {
      "cell_type": "markdown",
      "metadata": {
        "id": "n1AzZG4qSQRm"
      },
      "source": [
        ""
      ]
    },
    {
      "cell_type": "markdown",
      "metadata": {
        "id": "7wEWN9fvSWNT"
      },
      "source": [
        "## Exercise 5\r\n",
        "* Draw a picture of the spring-suspended magnet when the magnet is at rest, there is a magnetic field pointing downward, and the magnetic field is becoming stronger as you move downward.  Suppose the gimbal is stuck so the dipole moment of the permanent magnet is fixed downward. Draw a horizontal dashed line indicating the height of the magnet in case A.  Label this drawing case D.\r\n",
        "* Draw a qualitatively correct free body diagram for case D."
      ]
    },
    {
      "cell_type": "markdown",
      "metadata": {
        "id": "kLuCl5i6Su6z"
      },
      "source": [
        ""
      ]
    },
    {
      "cell_type": "markdown",
      "metadata": {
        "id": "e4BQEYCdS5Td"
      },
      "source": [
        "## Exercise 6\r\n",
        "Write down Newton’s second law for the free body diagram for case D."
      ]
    },
    {
      "cell_type": "markdown",
      "metadata": {
        "id": "7BhKjxz4S_Bk"
      },
      "source": [
        ""
      ]
    },
    {
      "cell_type": "markdown",
      "metadata": {
        "id": "D9aX6Z_xS_yY"
      },
      "source": [
        "## Exercise 7\r\n",
        "* Draw a picture of the spring-suspended magnet when the magnet is at rest, there is a magnetic field pointing upward, and the magnetic field is becoming stronger as you move downward.  Suppose the gimbal is stuck so the dipole moment of the permanent magnet is fixed downward. Draw a horizontal dashed line indicating the height of the magnet in case A.  Label this drawing case E.\r\n",
        "* Draw a qualitatively correct free body diagram for case E."
      ]
    },
    {
      "cell_type": "markdown",
      "metadata": {
        "id": "L87SJtNMT7Fx"
      },
      "source": [
        ""
      ]
    },
    {
      "cell_type": "markdown",
      "metadata": {
        "id": "_TQNN7saUg6h"
      },
      "source": [
        "## Exercise 8\r\n",
        "Write down Newton’s second law for the free body diagram for case E."
      ]
    },
    {
      "cell_type": "markdown",
      "metadata": {
        "id": "GQxCIz9TT7lK"
      },
      "source": [
        "## Exercise 9\r\n",
        "* Draw a picture of the spring-suspended magnet when the additional mass has been removed, the magnet is at rest, there is a magnetic field pointing downward, and the magnetic field is becoming weaker as you move downward.  Suppose the gimbal is stuck so the dipole moment of the permanent magnet is fixed downward.  Draw a horizontal dashed line indicating the height of the magnet in case A.  Label this drawing case F.\r\n",
        "* Draw a qualitatively correct free body diagram for case F."
      ]
    },
    {
      "cell_type": "markdown",
      "metadata": {
        "id": "TAf_D5RQUaW6"
      },
      "source": [
        ""
      ]
    },
    {
      "cell_type": "markdown",
      "metadata": {
        "id": "joOnvMbDUa29"
      },
      "source": [
        "## Exercise 10\r\n",
        "Write down Newton’s second law for the free body diagram for case F."
      ]
    },
    {
      "cell_type": "markdown",
      "metadata": {
        "id": "9aIxKc_BUpRX"
      },
      "source": [
        ""
      ]
    },
    {
      "cell_type": "markdown",
      "metadata": {
        "id": "oYEd0GZYUvRX"
      },
      "source": [
        "## Question 2\r\n",
        "Suppose the gimbal is now free to rotate.  In which case(s) described above (C through F) will the permanent magnet now point upward?"
      ]
    },
    {
      "cell_type": "markdown",
      "metadata": {
        "id": "1j0imnn0U0cg"
      },
      "source": [
        ""
      ]
    },
    {
      "cell_type": "markdown",
      "metadata": {
        "id": "z39471nOU1H3"
      },
      "source": [
        "## Exercise 11\r\n",
        "Draw a qualitatively correct free body diagram for each case identified in the previous question where the permanent magnet would point upward if it was free to rotate."
      ]
    },
    {
      "cell_type": "markdown",
      "metadata": {
        "id": "iU4LpIvGVHbW"
      },
      "source": [
        ""
      ]
    },
    {
      "cell_type": "markdown",
      "metadata": {
        "id": "av8tazMqpqKa"
      },
      "source": [
        "# Understanding the coil configurations"
      ]
    },
    {
      "cell_type": "markdown",
      "metadata": {
        "id": "1GJ4iFjdpv9y"
      },
      "source": [
        "The magnetic field due to a single coil set with current $I$, radius $R$, and $N$ turns at the position $z$ relative to the center of the coil is given by:\r\n",
        "$$B_z = \\frac{\\mu _0 IN}{2}\\frac{R^2}{\\left( z^2 + R^2 \\right)^{3/2}}$$"
      ]
    },
    {
      "cell_type": "code",
      "metadata": {
        "id": "3GANhP7srz38"
      },
      "source": [
        "import numpy as np\r\n",
        "import pandas as pd\r\n",
        "import matplotlib.pyplot as plt\r\n",
        "from scipy.constants import mu_0"
      ],
      "execution_count": null,
      "outputs": []
    },
    {
      "cell_type": "code",
      "metadata": {
        "id": "GSH1nzKJrIdf"
      },
      "source": [
        "N = 168\r\n",
        "R = 0.07\r\n",
        "def B(I, z):\r\n",
        "  z = z/100 # convert z in cm to m\r\n",
        "  B_in_T = 0.5*mu_0*N*I*R**2/(z**2+R**2)**1.5\r\n",
        "  return B_in_T*1000 # field in mT"
      ],
      "execution_count": null,
      "outputs": []
    },
    {
      "cell_type": "markdown",
      "metadata": {
        "id": "9hK8uG6aXCYI"
      },
      "source": [
        "## Single coil set\r\n",
        "\r\n"
      ]
    },
    {
      "cell_type": "code",
      "metadata": {
        "colab": {
          "base_uri": "https://localhost:8080/",
          "height": 504
        },
        "id": "2vg02KyQsSQL",
        "outputId": "7f4b83c2-c6f3-456b-ca72-c45a1457cb74"
      },
      "source": [
        "fig1, ax1 = plt.subplots(2,figsize=(6,8))\r\n",
        "z = np.linspace(-3.5,3.5, 100)\r\n",
        "ax1[0].plot(z, B(1.0, z));\r\n",
        "ax1[0].set_xlim(-3.5,3.5);\r\n",
        "ax1[0].set_ylim(0,2);\r\n",
        "ax1[0].set_xlabel(\"$z$ (cm)\");\r\n",
        "ax1[0].set_ylabel(\"$B_z$ (mT)\");\r\n",
        "ax1[1].set_xlim(-3.5,3.5);\r\n",
        "ax1[1].set_xlabel(\"$z$ (cm)\");\r\n",
        "ax1[1].set_ylabel(\"$\\partial B_z/ \\partial z$ (mT/cm)\");"
      ],
      "execution_count": null,
      "outputs": [
        {
          "output_type": "display_data",
          "data": {
            "image/png": "[encoded data removed]",
            "text/plain": [
              "<Figure size 432x576 with 2 Axes>"
            ]
          },
          "metadata": {
            "tags": [],
            "needs_background": "light"
          }
        }
      ]
    },
    {
      "cell_type": "markdown",
      "metadata": {
        "id": "5RkKLhp3Y1jE"
      },
      "source": [
        "## Helmholtz configuration"
      ]
    },
    {
      "cell_type": "code",
      "metadata": {
        "id": "hkjNqANWY9Yr"
      },
      "source": [
        "def B_helmholtz(I,z):\r\n",
        "  return B(I, z-3.5) + B(I, z+3.5)"
      ],
      "execution_count": null,
      "outputs": []
    },
    {
      "cell_type": "code",
      "metadata": {
        "colab": {
          "base_uri": "https://localhost:8080/",
          "height": 504
        },
        "id": "YW1q5BY7ZeGs",
        "outputId": "4c06b7cb-b021-45c9-b5d4-dd3f7e7c532c"
      },
      "source": [
        "fig2, ax2 = plt.subplots(2,figsize=(6,8))\r\n",
        "z = np.linspace(-3.5,3.5, 100)\r\n",
        "ax2[0].plot(z, B_helmholtz(1.0, z));\r\n",
        "ax2[0].set_xlim(-3.5,3.5);\r\n",
        "ax2[0].set_ylim(0,2.5);\r\n",
        "ax2[0].set_xlabel(\"$z$ (cm)\");\r\n",
        "ax2[0].set_ylabel(\"$B_z$ (mT)\");\r\n",
        "ax2[1].set_xlim(-3.5,3.5);\r\n",
        "ax2[1].set_xlabel(\"$z$ (cm)\");\r\n",
        "ax2[1].set_ylabel(\"$\\partial B_z/ \\partial z$ (mT/cm)\");"
      ],
      "execution_count": null,
      "outputs": [
        {
          "output_type": "display_data",
          "data": {
            "image/png": "[encoded data removed]",
            "text/plain": [
              "<Figure size 432x576 with 2 Axes>"
            ]
          },
          "metadata": {
            "tags": [],
            "needs_background": "light"
          }
        }
      ]
    },
    {
      "cell_type": "markdown",
      "metadata": {
        "id": "8rnHoPMpaJ29"
      },
      "source": [
        "## Anti-Helmholtz configuration"
      ]
    },
    {
      "cell_type": "code",
      "metadata": {
        "id": "EMdDHmbPaN6K"
      },
      "source": [
        "def B_antihelmholtz(I,z):\r\n",
        "  return B(I, z-3.5) + B(-I,z+3.5)"
      ],
      "execution_count": null,
      "outputs": []
    },
    {
      "cell_type": "code",
      "metadata": {
        "colab": {
          "base_uri": "https://localhost:8080/",
          "height": 504
        },
        "id": "WdPB4V_RagOS",
        "outputId": "4cdc8298-64b9-4801-a438-538efac71dff"
      },
      "source": [
        "fig3, ax3 = plt.subplots(2,figsize=(6,8))\r\n",
        "z = np.linspace(-3.5,3.5, 100)\r\n",
        "ax3[0].plot(z, B_antihelmholtz(1.0, z));\r\n",
        "ax3[0].set_xlim(-3.5,3.5);\r\n",
        "ax3[0].set_ylim(-1,1);\r\n",
        "ax3[0].set_xlabel(\"$z$ (cm)\");\r\n",
        "ax3[0].set_ylabel(\"$B_z$ (mT)\");\r\n",
        "ax3[1].set_xlim(-3.5,3.5);\r\n",
        "ax3[1].set_xlabel(\"$z$ (cm)\");\r\n",
        "ax3[1].set_ylabel(\"$\\partial B_z/ \\partial z$ (mT/cm)\");"
      ],
      "execution_count": null,
      "outputs": [
        {
          "output_type": "display_data",
          "data": {
            "image/png": "[encoded data removed]",
            "text/plain": [
              "<Figure size 432x576 with 2 Axes>"
            ]
          },
          "metadata": {
            "tags": [],
            "needs_background": "light"
          }
        }
      ]
    },
    {
      "cell_type": "markdown",
      "metadata": {
        "id": "Px15r3rUbh1P"
      },
      "source": [
        "## Reflection on field and field gradient graphs"
      ]
    },
    {
      "cell_type": "markdown",
      "metadata": {
        "id": "P0IHRxsxbnz8"
      },
      "source": [
        "### Question 3\r\n",
        "Which configuration (single coil set, Helmholtz, or anti-Helmholtz) most nearly produces a uniform, non-zero magnetic field about $z = 0$?"
      ]
    },
    {
      "cell_type": "markdown",
      "metadata": {
        "id": "53VBDvu6b7hh"
      },
      "source": [
        ""
      ]
    },
    {
      "cell_type": "markdown",
      "metadata": {
        "id": "o4EjOvTtb8Cu"
      },
      "source": [
        "### Question 4\r\n",
        "For the configuration identified in the previous question, what is the percent difference between the field at $z = 0$ and $z = 2\\ \\mathrm{cm}$? "
      ]
    },
    {
      "cell_type": "code",
      "metadata": {
        "id": "WAeKSkvucRkJ"
      },
      "source": [
        ""
      ],
      "execution_count": null,
      "outputs": []
    },
    {
      "cell_type": "markdown",
      "metadata": {
        "id": "dXaLxiHDcSPj"
      },
      "source": [
        "### Question 5\r\n",
        "Which configuration (single coil set, Helmholtz, or anti-Helmholtz) most nearly produces a uniform, non-zero magnetic field **gradient** about $z = 0$?"
      ]
    },
    {
      "cell_type": "markdown",
      "metadata": {
        "id": "omyVv4zMcgHL"
      },
      "source": [
        ""
      ]
    },
    {
      "cell_type": "markdown",
      "metadata": {
        "id": "81gBD5mycgm_"
      },
      "source": [
        "### Question 6\r\n",
        "For the configuration identified in the previous question, what is the percent difference between the field **gradient** at $z = 0$ and $z = 2\\ \\mathrm{cm}$? "
      ]
    },
    {
      "cell_type": "code",
      "metadata": {
        "id": "dAzRk33scqFP"
      },
      "source": [
        ""
      ],
      "execution_count": null,
      "outputs": []
    },
    {
      "cell_type": "markdown",
      "metadata": {
        "id": "Y-31Y7mFcsAg"
      },
      "source": [
        "### Question 7\r\n",
        "Which configuration will produce the greatest force on a permanent magnet placed at $z = 1\\ \\mathrm{cm}$?"
      ]
    },
    {
      "cell_type": "markdown",
      "metadata": {
        "id": "LB3Qrm02c2AP"
      },
      "source": [
        ""
      ]
    },
    {
      "cell_type": "markdown",
      "metadata": {
        "id": "9u8un67Hc3Ax"
      },
      "source": [
        "### Question 8\r\n",
        "Which configuration will produce the least force on a permanent magnet placed at $z = 1\\ \\mathrm{cm}$?"
      ]
    },
    {
      "cell_type": "markdown",
      "metadata": {
        "id": "nac6Xaz6dBtm"
      },
      "source": [
        ""
      ]
    },
    {
      "cell_type": "markdown",
      "metadata": {
        "id": "QDwld5cXVY7D"
      },
      "source": [
        "# Equipment and materials\r\n",
        "| Description | Manufacturer | Model | ID or SN |\r\n",
        "| ----------- | ------------ | ----- | -------- |\r\n",
        "| Magnetic Force apparatus | TeachSpin | fill in | fill in |\r\n",
        "| DC power supply (up to 3 A) | fill in | fill in | fill in |\r\n",
        "| Banana plugs (several) | N/A | N/A | N/A |\r\n",
        "\r\n",
        "_You should replace the **fill in** entries with appropriate info._"
      ]
    },
    {
      "cell_type": "markdown",
      "metadata": {
        "id": "Ebd9hqxKeZiZ"
      },
      "source": [
        "# Qualitative observations for the Helmholtz configuration"
      ]
    },
    {
      "cell_type": "markdown",
      "metadata": {
        "id": "WRUyZ5oneops"
      },
      "source": [
        ""
      ]
    },
    {
      "cell_type": "markdown",
      "metadata": {
        "id": "jmTrodyOepLd"
      },
      "source": [
        "# Qualitative observations for the anti-Helmholtz configuration"
      ]
    },
    {
      "cell_type": "markdown",
      "metadata": {
        "id": "R0mYP990excC"
      },
      "source": [
        ""
      ]
    }
  ]
}